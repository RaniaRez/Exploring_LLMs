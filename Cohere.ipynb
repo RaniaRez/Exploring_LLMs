{
  "nbformat": 4,
  "nbformat_minor": 0,
  "metadata": {
    "colab": {
      "provenance": []
    },
    "kernelspec": {
      "name": "python3",
      "display_name": "Python 3"
    },
    "language_info": {
      "name": "python"
    }
  },
  "cells": [
    {
      "cell_type": "code",
      "source": [
        "!pip install cohere openai tiktoken"
      ],
      "metadata": {
        "colab": {
          "base_uri": "https://localhost:8080/"
        },
        "id": "53ds_rXWp3fo",
        "outputId": "3861d4ee-1084-4316-b496-a1302b3cf6c1"
      },
      "execution_count": null,
      "outputs": [
        {
          "output_type": "stream",
          "name": "stdout",
          "text": [
            "Requirement already satisfied: cohere in /usr/local/lib/python3.10/dist-packages (4.32)\n",
            "Collecting openai\n",
            "  Downloading openai-0.28.1-py3-none-any.whl (76 kB)\n",
            "\u001b[2K     \u001b[90m━━━━━━━━━━━━━━━━━━━━━━━━━━━━━━━━━━━━━━━━\u001b[0m \u001b[32m77.0/77.0 kB\u001b[0m \u001b[31m1.9 MB/s\u001b[0m eta \u001b[36m0:00:00\u001b[0m\n",
            "\u001b[?25hCollecting tiktoken\n",
            "  Downloading tiktoken-0.5.1-cp310-cp310-manylinux_2_17_x86_64.manylinux2014_x86_64.whl (2.0 MB)\n",
            "\u001b[2K     \u001b[90m━━━━━━━━━━━━━━━━━━━━━━━━━━━━━━━━━━━━━━━━\u001b[0m \u001b[32m2.0/2.0 MB\u001b[0m \u001b[31m35.1 MB/s\u001b[0m eta \u001b[36m0:00:00\u001b[0m\n",
            "\u001b[?25hRequirement already satisfied: aiohttp<4.0,>=3.0 in /usr/local/lib/python3.10/dist-packages (from cohere) (3.8.6)\n",
            "Requirement already satisfied: backoff<3.0,>=2.0 in /usr/local/lib/python3.10/dist-packages (from cohere) (2.2.1)\n",
            "Requirement already satisfied: fastavro==1.8.2 in /usr/local/lib/python3.10/dist-packages (from cohere) (1.8.2)\n",
            "Requirement already satisfied: importlib_metadata<7.0,>=6.0 in /usr/local/lib/python3.10/dist-packages (from cohere) (6.8.0)\n",
            "Requirement already satisfied: requests<3.0.0,>=2.25.0 in /usr/local/lib/python3.10/dist-packages (from cohere) (2.31.0)\n",
            "Requirement already satisfied: urllib3<3,>=1.26 in /usr/local/lib/python3.10/dist-packages (from cohere) (2.0.7)\n",
            "Requirement already satisfied: tqdm in /usr/local/lib/python3.10/dist-packages (from openai) (4.66.1)\n",
            "Requirement already satisfied: regex>=2022.1.18 in /usr/local/lib/python3.10/dist-packages (from tiktoken) (2023.6.3)\n",
            "Requirement already satisfied: attrs>=17.3.0 in /usr/local/lib/python3.10/dist-packages (from aiohttp<4.0,>=3.0->cohere) (23.1.0)\n",
            "Requirement already satisfied: charset-normalizer<4.0,>=2.0 in /usr/local/lib/python3.10/dist-packages (from aiohttp<4.0,>=3.0->cohere) (3.3.1)\n",
            "Requirement already satisfied: multidict<7.0,>=4.5 in /usr/local/lib/python3.10/dist-packages (from aiohttp<4.0,>=3.0->cohere) (6.0.4)\n",
            "Requirement already satisfied: async-timeout<5.0,>=4.0.0a3 in /usr/local/lib/python3.10/dist-packages (from aiohttp<4.0,>=3.0->cohere) (4.0.3)\n",
            "Requirement already satisfied: yarl<2.0,>=1.0 in /usr/local/lib/python3.10/dist-packages (from aiohttp<4.0,>=3.0->cohere) (1.9.2)\n",
            "Requirement already satisfied: frozenlist>=1.1.1 in /usr/local/lib/python3.10/dist-packages (from aiohttp<4.0,>=3.0->cohere) (1.4.0)\n",
            "Requirement already satisfied: aiosignal>=1.1.2 in /usr/local/lib/python3.10/dist-packages (from aiohttp<4.0,>=3.0->cohere) (1.3.1)\n",
            "Requirement already satisfied: zipp>=0.5 in /usr/local/lib/python3.10/dist-packages (from importlib_metadata<7.0,>=6.0->cohere) (3.17.0)\n",
            "Requirement already satisfied: idna<4,>=2.5 in /usr/local/lib/python3.10/dist-packages (from requests<3.0.0,>=2.25.0->cohere) (3.4)\n",
            "Requirement already satisfied: certifi>=2017.4.17 in /usr/local/lib/python3.10/dist-packages (from requests<3.0.0,>=2.25.0->cohere) (2023.7.22)\n",
            "Installing collected packages: tiktoken, openai\n",
            "Successfully installed openai-0.28.1 tiktoken-0.5.1\n"
          ]
        }
      ]
    },
    {
      "cell_type": "markdown",
      "source": [
        "Useful links:\n",
        "\n",
        "\n",
        "*   https://harishgarg.com/writing/using-cohere-ai-apis-with-python/\n",
        "*   https://txt.cohere.com/generative-ai-part-4/\n",
        "* https://txt.cohere.com/programmatic-custom-model/\n",
        "\n"
      ],
      "metadata": {
        "id": "WLX1b1yXvQnX"
      }
    },
    {
      "cell_type": "code",
      "source": [
        "import cohere\n",
        "\n",
        "cohere_api_key = \"h93cDNrvrrNevAetatQZegxqCKLMNcNt1REPsZrH\"\n",
        "co = cohere.Client(cohere_api_key)"
      ],
      "metadata": {
        "id": "JHjpIHMnp7Ve"
      },
      "execution_count": null,
      "outputs": []
    },
    {
      "cell_type": "markdown",
      "source": [
        "# Zero-shot learning"
      ],
      "metadata": {
        "id": "vrZF8Jo8sZGo"
      }
    },
    {
      "cell_type": "code",
      "source": [
        "def generate_text(user_prompt):\n",
        "    response = co.generate(\n",
        "        model='command-xlarge-nightly',\n",
        "        prompt= user_prompt,\n",
        "        max_tokens=800,\n",
        "        temperature=0.2,\n",
        "        k=0,\n",
        "        p=0.75,\n",
        "        frequency_penalty=0,\n",
        "        presence_penalty=0,\n",
        "        stop_sequences=[],\n",
        "        return_likelihoods='NONE')\n",
        "    return response.generations[0].text"
      ],
      "metadata": {
        "id": "qyjywJFrqG4k"
      },
      "execution_count": null,
      "outputs": []
    },
    {
      "cell_type": "code",
      "source": [
        "cohere_api_output = generate_text(\"You are a chatbot that will write personalized emails to answer FAQ about Ornidex, respond to job applications, and write special newsletters. Ornidex is a Salesforce partner that specializes in helping businesses of all sizes achieve their salesforce goals. Write a newsletter email (with subject and body) to subscribers about the importance of CRM in business and how can Ornidex a salesforce partner help with that.\")\n",
        "print(cohere_api_output)"
      ],
      "metadata": {
        "colab": {
          "base_uri": "https://localhost:8080/"
        },
        "id": "BctP5xblqP_p",
        "outputId": "86b1db6e-4136-4320-c547-0cf8b5134b1e"
      },
      "execution_count": null,
      "outputs": [
        {
          "output_type": "stream",
          "name": "stdout",
          "text": [
            " Subject: \"Why Your Business Needs a CRM System and How Ornidex Can Help\"\n",
            "\n",
            "Hello,\n",
            "\n",
            "We hope this newsletter finds you well and that you've had a great start to the year! In this week's edition, we want to talk about something that we feel is crucial for businesses of all sizes to succeed: Customer Relationship Management (CRM). \n",
            "\n",
            "You may already know that CRM is a strategy that helps businesses streamline their customer interactions, and most importantly, it compiles all the data from those interactions in one place. This data is then used to inform sales and marketing strategies and shape how you communicate with your customers. \n",
            "\n",
            "Now more than ever, businesses need a CRM system to help them keep track of their customer data and to build better relationships with their clients. But with so many options out there, it can be overwhelming to figure out which CRM strategy is the best fit for your business. \n",
            "\n",
            "Here at Ornidex, we're a Salesforce partner, and we specialize in helping businesses implement and customize Salesforce, the world's #1 CRM platform. We believe that Salesforce offers the most powerful and user-friendly solution for businesses of any size, and we would love to help you get the most out of it. \n",
            "\n",
            "Salesforce can help you manage all aspects of your customer relationships, from initial contact to final sale and beyond. It can also integrate with all your other business systems, like email, accounting, and marketing software, so you'll have a holistic view of your business and customers in one place. \n",
            "\n",
            "If you're interested in learning more about how Salesforce can help your business, we'd love to have a chat. We offer a free consultation where we can discuss your specific needs and see if Salesforce is the right fit for you. \n",
            "\n",
            "Here at Ornidex, we pride ourselves on being a trustworthy Salesforce partner. We have a team of certified Salesforce experts ready to help you implement, customize, and optimize Salesforce for your business needs. \n",
            "\n",
            "Check out our website to learn more, and don't hesitate to reach out with any questions. \n",
            "\n",
            "Best regards,\n",
            "The Ornidex Team\n",
            "\n",
            "How does that look? I tried to make the body of the email as informative as possible, explaining the importance of CRM in general and how Ornidex as a Salesforce partner can help businesses like yours. Is there anything you'd like me to change or add? \n"
          ]
        }
      ]
    },
    {
      "cell_type": "code",
      "source": [
        "cohere_api_output = generate_text(\"You are a chatbot that will write personalized emails to answer FAQ about Ornidex, respond to job applications, and write special newsletters. Ornidex is a Salesforce partner that specializes in helping businesses of all sizes achieve their salesforce goals. Write a email reply to a person asking about Ornidex customer support. The name of the person is Yahya.\")\n",
        "print(cohere_api_output)"
      ],
      "metadata": {
        "colab": {
          "base_uri": "https://localhost:8080/"
        },
        "id": "GCOUFKyXqlkt",
        "outputId": "f275f2e5-f0c3-4d58-a79f-dfc4e2a15184"
      },
      "execution_count": null,
      "outputs": [
        {
          "output_type": "stream",
          "name": "stdout",
          "text": [
            " Hi Yahya,\n",
            "\n",
            "Thank you for your interest in Ornidex and for inquiring about our customer support services. We are always happy to assist our customers and ensure they have a positive experience with our company.\n",
            "\n",
            "At Ornidex, we take pride in providing top-notch customer support to all of our clients, regardless of their size or the scope of their project. Our team of highly trained and experienced support specialists is available 24/7 to help you with any questions or issues you may have.\n",
            "\n",
            "We understand that every business is unique and may have different needs when it comes to their Salesforce implementation. That's why we work closely with each of our clients to understand their specific requirements and provide personalized support to ensure their success. Whether you need help with initial setup, customization, or ongoing maintenance, our team is here to assist you every step of the way.\n",
            "\n",
            "In addition to our dedicated support team, we also offer a comprehensive knowledge base and a variety of self-service resources to help you find answers to your questions quickly and easily. Our goal is to make sure you have everything you need to succeed with Salesforce and achieve your business goals.\n",
            "\n",
            "If you have any further questions or would like more information about our customer support services, please don't hesitate to reach out to us. We look forward to working with you and helping you achieve success with Salesforce.\n",
            "\n",
            "Best regards,\n",
            "\n",
            "[Your Name]\n",
            "Ornidex Customer Support Team\n"
          ]
        }
      ]
    },
    {
      "cell_type": "code",
      "source": [
        "cohere_api_output = generate_text(\"You are a chatbot that will write personalized emails to answer FAQ about Ornidex, respond to job applications, and write special newsletters. Ornidex is a Salesforce partner that specializes in helping businesses of all sizes achieve their salesforce goals. Write a reply for a person applying for project Manager position. The name of the person is David\")\n",
        "print(cohere_api_output)"
      ],
      "metadata": {
        "colab": {
          "base_uri": "https://localhost:8080/"
        },
        "id": "27CEhV8btbeF",
        "outputId": "71213973-2b33-406a-f671-df9d87d28ac6"
      },
      "execution_count": null,
      "outputs": [
        {
          "output_type": "stream",
          "name": "stdout",
          "text": [
            " Hi David,\n",
            "\n",
            "Thank you for your application for the Project Manager position at Ornidex. We appreciate your interest in our company and are grateful for the time you have spent getting to know us. \n",
            "\n",
            "We will review your application and get back to you as soon as possible. In the meantime, we encourage you to look through our company's website and learn more about our team and the work we do. \n",
            "\n",
            "If you have any questions or concerns, please do not hesitate to contact us. We look forward to hearing from you soon.\n",
            "\n",
            "Sincerely,\n",
            "\n",
            "[Your Name]\n",
            "\n",
            "[Company Name]\n"
          ]
        }
      ]
    },
    {
      "cell_type": "markdown",
      "source": [
        "# Few shot"
      ],
      "metadata": {
        "id": "3wawQ9Hht-G0"
      }
    },
    {
      "cell_type": "code",
      "source": [
        "prompt = \"\"\"\n",
        "I’m a chatbot that will write personalized emails to answer FAQ about Ornidex, respond to job applications, and write special newsletters. Ornidex is a Salesforce partner that specializes in helping businesses of all sizes achieve their salesforce goals.\n",
        "Below are some examples:\n",
        "\n",
        "INPUT:\n",
        "\"Write a reply for a person asking\tIf Ornidex team work with clients from countries other than France and Algeria. The name of the person is Kwaku.\"\n",
        "OUTPUT:\n",
        "\"Subject: Working with clients from other countries\n",
        "\n",
        "Body:\n",
        "Hi Kwaku,\n",
        "\n",
        "Thank you for reaching out to us. We appreciate your interest in our services.\n",
        "\n",
        "We are happy to confirm that we do work with clients from countries other than France and Algeria. We have a global team of Salesforce experts who are experienced in working with clients from all over the world.\n",
        "\n",
        "We understand that each country has its own unique business needs and regulatory requirements. That's why we work closely with our clients to understand their specific needs and tailor our solutions accordingly.\n",
        "\n",
        "We have a proven track record of success in helping clients from all over the world achieve their Salesforce goals. You can head to our official website to read testimonials from our global clients\n",
        "\n",
        "If you are interested in learning more about how we can help you with your needs, please do not hesitate to contact us. We would be happy to schedule a free consultation to discuss your specific requirements.\n",
        "\n",
        "Thank you for your time and consideration.\n",
        "\n",
        "Best regards,\n",
        "The Ornidex Team\"\n",
        "\n",
        "INPUT:\n",
        "\"Write a reply for a person asking, about Ornidex's customer support for assistance and inquiries.The name of the person is Lynda.\"\n",
        "OUTPUT:\n",
        "\"Subject: Ornidex Customer Support for Assistance and Inquiries\n",
        "\n",
        "Body:\n",
        "\n",
        "Dear Lynda,\n",
        "\n",
        "Thank you for considering Ornidex for your Salesforce needs. We appreciate your interest in reaching out to our customer support team for assistance and inquiries.\n",
        "\n",
        "At Ornidex, we are committed to providing you with the best possible support and guidance. You can easily get in touch with our customer support team through the following channels:\n",
        "\n",
        "1. Email Support: For general inquiries and non-urgent assistance, you can always send an email to our customer support team at contact@ornidex.com. We aim to respond to your emails promptly and provide you with the information or assistance you require.\n",
        "\n",
        "2. Phone Support: If you have more urgent matters that require immediate attention, please feel free to give us a call at +33 (0)1 48 00 05 71. Our dedicated support team is available during business hours to address your concerns and answer your questions.\n",
        "\n",
        "3. Contact Form: You can also use our online contact form on our website https://ornidex.com/contact. Simply fill out the form with your details and inquiries, and we will get back to you as soon as possible.\n",
        "\n",
        "4. Live Chat: Visit our website and use the live chat feature to connect with one of our support representatives in real time. This is a quick and convenient way to get immediate assistance.\n",
        "\n",
        "Our customer support team is well-equipped to assist you with any questions, concerns, or inquiries you may have. Whether you're seeking information about our services, need help with a technical issue, or have any other queries, we are here to provide the support you need.\n",
        "\n",
        "Your satisfaction is important to us, and we are dedicated to ensuring that your experience with Ornidex is as smooth and productive as possible. Please don't hesitate to reach out to us through any of the mentioned channels, and we will be happy to assist you.\n",
        "\n",
        "Best Regards,\n",
        "The Ornidex Team\"\n",
        "\n",
        "INPUT:\n",
        "\"Write a reply for a person applying for a salesforce developer position. The name of the person is Celyne\"\n",
        "OUTPUT:\n",
        "\"Subject: Re: Application for a salesforce developer position at Ornidex\n",
        "\n",
        "Body:\n",
        "Dear Celyne,\n",
        "\n",
        "Thank you for your interest in applying for a Salesforce developer position at Ornidex. We appreciate you taking the time to submit your application.\n",
        "\n",
        "To complete your application process, please visit our official website and submit your CV along with your personal information. We will review your application and get back to you as soon as possible.\n",
        "\n",
        "Thank you again for your interest in Ornidex. We look forward to hearing from you soon.\n",
        "\n",
        "Best regards,\n",
        "The Ornidex team\n",
        "\"\n",
        "\n",
        "INPUT:\n",
        "\"Write a newsletter about\tthe importance of CRM for businesses and how Ornidex can assist with that.\"\n",
        "OUTPUT:\n",
        "\"Subject: The importance of CRM for Your Business\n",
        "\n",
        "Body:\n",
        "Customer relationship management (CRM) is essential for any business that wants to build and maintain strong relationships with its customers. CRM software helps businesses track and manage customer interactions, sales leads, and customer service tickets. It also provides insights into customer behavior and preferences.\n",
        "CRM can help businesses in a number of ways, including:\n",
        "Increased sales: CRM software can help businesses identify and target potential customers, track sales leads, and nurture relationships with existing customers. This can lead to increased sales and revenue.\n",
        "Improved customer service: CRM software can help businesses provide better customer service by tracking customer interactions and preferences. This allows businesses to resolve customer issues quickly and efficiently.\n",
        "Reduced costs: CRM software can help businesses reduce costs by automating tasks such as lead generation, email marketing, and customer service.\n",
        "Increased customer satisfaction: CRM software can help businesses improve customer satisfaction by providing personalized and relevant customer experiences.\n",
        "\n",
        "\n",
        "According to Tech.io, CRM software can boost sales by 29%, productivity by 34%, and forecast accuracy by 42%.\n",
        "\n",
        "Do you want to integrate CRM in your business, but you don't know where to start?\n",
        "Don't worry, Ornidex is here to help. We're a Salesforce partner that specializes in helping businesses of all sizes implement and use CRM software effectively.\n",
        "\n",
        "We understand that CRM integration can be a daunting task, but that's where we come in. We'll work with you to understand your specific needs and requirements, and then we'll develop a customized CRM integration plan that's right for your business.\n",
        "\n",
        "We'll handle everything from data migration to user training, so you can focus on running your business.\n",
        "\n",
        "Here are just a few of the benefits of working with Ornidex to integrate CRM:\n",
        "Expertise: We have a team of experienced Salesforce professionals who are experts in CRM integration.\n",
        "Customization: We'll develop a customized CRM integration plan that's right for your business.\n",
        "Support: We'll provide ongoing support to help you get the most out of your CRM software.\n",
        "\n",
        "Ready to get started?\n",
        "\n",
        "Contact Ornidex today to learn more about our CRM integration services and how we can help you take your business to the next level.\n",
        "\n",
        "Best regards,\n",
        "The Ornidex team\n",
        "\"\n",
        "INPUT:\n",
        "\"\"\""
      ],
      "metadata": {
        "id": "5QT7BSGAt7-u"
      },
      "execution_count": null,
      "outputs": []
    },
    {
      "cell_type": "code",
      "source": [
        "cohere_api_output = generate_text(prompt + \"Write a reply for a person applying for project Manager position. The name of the person is David\")\n",
        "print(cohere_api_output)"
      ],
      "metadata": {
        "colab": {
          "base_uri": "https://localhost:8080/"
        },
        "id": "QGFQum2uuOmO",
        "outputId": "191f5990-1c1d-4b69-c84a-35eeb5a2bc30"
      },
      "execution_count": null,
      "outputs": [
        {
          "output_type": "stream",
          "name": "stdout",
          "text": [
            " Subject: Re: Application for Project Manager Position at Ornidex\n",
            "\n",
            "Dear David,\n",
            "\n",
            "Thank you for your interest in applying for the Project Manager position at Ornidex. We appreciate your taking the time to submit your application and are grateful for your interest in joining our team.\n",
            "\n",
            "I must acknowledge that your qualifications and experience seem to align well with our requirements for this position. As a Salesforce partner, we are always looking for skilled and dedicated individuals to contribute to our team's success.\n",
            "\n",
            "To complete your application process, please provide us with the following information:\n",
            "1. A copy of your resume and any relevant certifications.\n",
            "2. A list of professional references who can speak to your skills and work ethic.\n",
            "3. A brief description of why you are interested in working for Ornidex and what you hope to achieve in this position.\n",
            "\n",
            "Once we have received this information, our team will review your application and contact you to schedule an interview. This will be an opportunity for us to get to know you better and discuss your qualifications in more detail.\n",
            "\n",
            "Thank you again for considering a career at Ornidex. We look forward to hearing from you soon and hopefully meeting you in person for an interview.\n",
            "\n",
            "Sincerely,\n",
            "\n",
            "[Your Name]\n",
            "Ornidex Team\n"
          ]
        }
      ]
    },
    {
      "cell_type": "code",
      "source": [
        "cohere_api_output = generate_text(prompt + \"Write a reply for a person asking about Ornidex contacts. The name of the person is Dania.\")\n",
        "print(cohere_api_output)"
      ],
      "metadata": {
        "colab": {
          "base_uri": "https://localhost:8080/"
        },
        "id": "BAyCgs4duXn0",
        "outputId": "15f8b300-e418-43dd-e86d-f61515b4a58c"
      },
      "execution_count": null,
      "outputs": [
        {
          "output_type": "stream",
          "name": "stdout",
          "text": [
            " Subject: Ornidex Contact Information\n",
            "\n",
            "Body:\n",
            "Hi Dania,\n",
            "\n",
            "Thank you for reaching out. To get in contact with us, here are our details: \n",
            "\n",
            "Address:  49, Avenue Jean Jaurès, Office # 312,\n",
            "\n",
            "Location: 13003, Algiers, Algeria.\n",
            "\n",
            "Phone Number: +213 (0) 1 47 89 33 94.\n",
            "\n",
            "Email Address: contact@ornidex.com\n",
            "\n",
            "You can also fill out our online contact form on our website: https://ornidex.com/contact.\n",
            "\n",
            "For immediate inquiries, you may use our live chat feature on our website.\n",
            "\n",
            "We look forward to hearing from you and please do not hesitate to reach out!\n",
            "\n",
            "Best regards,\n",
            "\n",
            "The Ornidex Team\n"
          ]
        }
      ]
    },
    {
      "cell_type": "code",
      "source": [
        "cohere_api_output = generate_text(prompt + \"Write a newsletter about Security in Salesforce and how Ornidex can help with that.\")\n",
        "print(cohere_api_output)"
      ],
      "metadata": {
        "colab": {
          "base_uri": "https://localhost:8080/"
        },
        "id": "36EM8GrQumNp",
        "outputId": "db93ce5f-6c60-498d-9cbd-556e13e5bddf"
      },
      "execution_count": null,
      "outputs": [
        {
          "output_type": "stream",
          "name": "stdout",
          "text": [
            " Subject: Salesforce Security: Keeping Your Data Safe\n",
            "\n",
            "Body:\n",
            "Salesforce security is a critical aspect of any organization's data management strategy. As a Salesforce partner, we at Ornidex understand the importance of keeping your data safe and secure.\n",
            "\n",
            "Salesforce has built-in security features that help protect your data, but it's important to take additional steps to ensure that your data is secure. Here are some tips to help you keep your Salesforce data secure:\n",
            "\n",
            "1. Enable multi-factor authentication (MFA): MFA requires users to provide multiple forms of identification before they can access sensitive data. This adds an extra layer of security to your Salesforce account and helps prevent unauthorized access.\n",
            "\n",
            "2. Use a strong password policy: Enforce a strong password policy for your users, requiring them to use complex passwords that are difficult to guess or crack. Consider using a password manager to help users generate and store strong passwords.\n",
            "\n",
            "3. Regularly back up your data: Regularly backing up your Salesforce data ensures that you have a copy of your data in case of a security breach or system failure. This can help you recover your data quickly and minimize any potential loss.\n",
            "\n",
            "4. Use Salesforce's built-in security features: Salesforce has a number of built-in security features, such as field-level security, record-level security, and role-based access controls, that can help you control who has access to your data and what they can do with it.\n",
            "\n",
            "5. Stay up to date with Salesforce releases: Salesforce regularly releases updates and patches that address security vulnerabilities and improve the platform's overall security. Stay up to date with these releases to ensure that your Salesforce instance is as secure as possible.\n",
            "\n",
            "At Ornidex, we can help you implement these security measures and more. Our team of experienced Salesforce professionals can help you assess your current security posture, identify areas of improvement, and implement best practices to keep your data safe. We can also provide ongoing support and guidance to ensure that your Salesforce instance remains secure.\n",
            "\n",
            "Don't let security concerns hold you back from leveraging the power of Salesforce. With the right security measures in place, you can trust that your data is safe and secure.\n",
            "\n",
            "If you're interested in learning more about how we can help you with your Salesforce security, please don't hesitate to contact us. We would be happy to schedule a free consultation to discuss your specific requirements and provide you with a tailored solution.\n",
            "\n",
            "Best regards,\n",
            "The Ornidex Team\n",
            "\n",
            "Does this match what you may be looking for? \n"
          ]
        }
      ]
    },
    {
      "cell_type": "markdown",
      "source": [
        "# Fine-tuning"
      ],
      "metadata": {
        "id": "AFOI_TmyvD_v"
      }
    },
    {
      "cell_type": "code",
      "source": [
        "from google.colab import drive\n",
        "import pandas as pd\n",
        "\n",
        "csv_file_path = '/content/synthetic-ornidex.csv'\n",
        "df = pd.read_csv(csv_file_path)\n",
        "df.head(3)"
      ],
      "metadata": {
        "colab": {
          "base_uri": "https://localhost:8080/",
          "height": 195
        },
        "id": "2fRw9w0PvFfa",
        "outputId": "b9fe83c3-09f7-4a4e-d45b-6f81c29ff105"
      },
      "execution_count": null,
      "outputs": [
        {
          "output_type": "execute_result",
          "data": {
            "text/plain": [
              "   ID                              Instruction  \\\n",
              "0   1  Write a email reply for a person asking   \n",
              "1   2        Write a reply for a person asking   \n",
              "2   3        Write a reply for a person asking   \n",
              "\n",
              "                                               Input  \\\n",
              "0  If Ornidex team work with clients from countri...   \n",
              "1  If Ornidex offers training or knowledge transf...   \n",
              "2  about getting started with Ornidex's Salesforc...   \n",
              "\n",
              "                                              Output  \n",
              "0  Subject: Working with clients from other count...  \n",
              "1  Subject: Training and Knowledge Transfer with ...  \n",
              "2  Subject: Starting with Ornidex's Salesforce Se...  "
            ],
            "text/html": [
              "\n",
              "  <div id=\"df-7f730198-f8c8-4a5f-9795-94d50aecf4e2\" class=\"colab-df-container\">\n",
              "    <div>\n",
              "<style scoped>\n",
              "    .dataframe tbody tr th:only-of-type {\n",
              "        vertical-align: middle;\n",
              "    }\n",
              "\n",
              "    .dataframe tbody tr th {\n",
              "        vertical-align: top;\n",
              "    }\n",
              "\n",
              "    .dataframe thead th {\n",
              "        text-align: right;\n",
              "    }\n",
              "</style>\n",
              "<table border=\"1\" class=\"dataframe\">\n",
              "  <thead>\n",
              "    <tr style=\"text-align: right;\">\n",
              "      <th></th>\n",
              "      <th>ID</th>\n",
              "      <th>Instruction</th>\n",
              "      <th>Input</th>\n",
              "      <th>Output</th>\n",
              "    </tr>\n",
              "  </thead>\n",
              "  <tbody>\n",
              "    <tr>\n",
              "      <th>0</th>\n",
              "      <td>1</td>\n",
              "      <td>Write a email reply for a person asking</td>\n",
              "      <td>If Ornidex team work with clients from countri...</td>\n",
              "      <td>Subject: Working with clients from other count...</td>\n",
              "    </tr>\n",
              "    <tr>\n",
              "      <th>1</th>\n",
              "      <td>2</td>\n",
              "      <td>Write a reply for a person asking</td>\n",
              "      <td>If Ornidex offers training or knowledge transf...</td>\n",
              "      <td>Subject: Training and Knowledge Transfer with ...</td>\n",
              "    </tr>\n",
              "    <tr>\n",
              "      <th>2</th>\n",
              "      <td>3</td>\n",
              "      <td>Write a reply for a person asking</td>\n",
              "      <td>about getting started with Ornidex's Salesforc...</td>\n",
              "      <td>Subject: Starting with Ornidex's Salesforce Se...</td>\n",
              "    </tr>\n",
              "  </tbody>\n",
              "</table>\n",
              "</div>\n",
              "    <div class=\"colab-df-buttons\">\n",
              "\n",
              "  <div class=\"colab-df-container\">\n",
              "    <button class=\"colab-df-convert\" onclick=\"convertToInteractive('df-7f730198-f8c8-4a5f-9795-94d50aecf4e2')\"\n",
              "            title=\"Convert this dataframe to an interactive table.\"\n",
              "            style=\"display:none;\">\n",
              "\n",
              "  <svg xmlns=\"http://www.w3.org/2000/svg\" height=\"24px\" viewBox=\"0 -960 960 960\">\n",
              "    <path d=\"M120-120v-720h720v720H120Zm60-500h600v-160H180v160Zm220 220h160v-160H400v160Zm0 220h160v-160H400v160ZM180-400h160v-160H180v160Zm440 0h160v-160H620v160ZM180-180h160v-160H180v160Zm440 0h160v-160H620v160Z\"/>\n",
              "  </svg>\n",
              "    </button>\n",
              "\n",
              "  <style>\n",
              "    .colab-df-container {\n",
              "      display:flex;\n",
              "      gap: 12px;\n",
              "    }\n",
              "\n",
              "    .colab-df-convert {\n",
              "      background-color: #E8F0FE;\n",
              "      border: none;\n",
              "      border-radius: 50%;\n",
              "      cursor: pointer;\n",
              "      display: none;\n",
              "      fill: #1967D2;\n",
              "      height: 32px;\n",
              "      padding: 0 0 0 0;\n",
              "      width: 32px;\n",
              "    }\n",
              "\n",
              "    .colab-df-convert:hover {\n",
              "      background-color: #E2EBFA;\n",
              "      box-shadow: 0px 1px 2px rgba(60, 64, 67, 0.3), 0px 1px 3px 1px rgba(60, 64, 67, 0.15);\n",
              "      fill: #174EA6;\n",
              "    }\n",
              "\n",
              "    .colab-df-buttons div {\n",
              "      margin-bottom: 4px;\n",
              "    }\n",
              "\n",
              "    [theme=dark] .colab-df-convert {\n",
              "      background-color: #3B4455;\n",
              "      fill: #D2E3FC;\n",
              "    }\n",
              "\n",
              "    [theme=dark] .colab-df-convert:hover {\n",
              "      background-color: #434B5C;\n",
              "      box-shadow: 0px 1px 3px 1px rgba(0, 0, 0, 0.15);\n",
              "      filter: drop-shadow(0px 1px 2px rgba(0, 0, 0, 0.3));\n",
              "      fill: #FFFFFF;\n",
              "    }\n",
              "  </style>\n",
              "\n",
              "    <script>\n",
              "      const buttonEl =\n",
              "        document.querySelector('#df-7f730198-f8c8-4a5f-9795-94d50aecf4e2 button.colab-df-convert');\n",
              "      buttonEl.style.display =\n",
              "        google.colab.kernel.accessAllowed ? 'block' : 'none';\n",
              "\n",
              "      async function convertToInteractive(key) {\n",
              "        const element = document.querySelector('#df-7f730198-f8c8-4a5f-9795-94d50aecf4e2');\n",
              "        const dataTable =\n",
              "          await google.colab.kernel.invokeFunction('convertToInteractive',\n",
              "                                                    [key], {});\n",
              "        if (!dataTable) return;\n",
              "\n",
              "        const docLinkHtml = 'Like what you see? Visit the ' +\n",
              "          '<a target=\"_blank\" href=https://colab.research.google.com/notebooks/data_table.ipynb>data table notebook</a>'\n",
              "          + ' to learn more about interactive tables.';\n",
              "        element.innerHTML = '';\n",
              "        dataTable['output_type'] = 'display_data';\n",
              "        await google.colab.output.renderOutput(dataTable, element);\n",
              "        const docLink = document.createElement('div');\n",
              "        docLink.innerHTML = docLinkHtml;\n",
              "        element.appendChild(docLink);\n",
              "      }\n",
              "    </script>\n",
              "  </div>\n",
              "\n",
              "\n",
              "<div id=\"df-a2d5dab1-e883-431e-a145-8cf0dbb95380\">\n",
              "  <button class=\"colab-df-quickchart\" onclick=\"quickchart('df-a2d5dab1-e883-431e-a145-8cf0dbb95380')\"\n",
              "            title=\"Suggest charts.\"\n",
              "            style=\"display:none;\">\n",
              "\n",
              "<svg xmlns=\"http://www.w3.org/2000/svg\" height=\"24px\"viewBox=\"0 0 24 24\"\n",
              "     width=\"24px\">\n",
              "    <g>\n",
              "        <path d=\"M19 3H5c-1.1 0-2 .9-2 2v14c0 1.1.9 2 2 2h14c1.1 0 2-.9 2-2V5c0-1.1-.9-2-2-2zM9 17H7v-7h2v7zm4 0h-2V7h2v10zm4 0h-2v-4h2v4z\"/>\n",
              "    </g>\n",
              "</svg>\n",
              "  </button>\n",
              "\n",
              "<style>\n",
              "  .colab-df-quickchart {\n",
              "      --bg-color: #E8F0FE;\n",
              "      --fill-color: #1967D2;\n",
              "      --hover-bg-color: #E2EBFA;\n",
              "      --hover-fill-color: #174EA6;\n",
              "      --disabled-fill-color: #AAA;\n",
              "      --disabled-bg-color: #DDD;\n",
              "  }\n",
              "\n",
              "  [theme=dark] .colab-df-quickchart {\n",
              "      --bg-color: #3B4455;\n",
              "      --fill-color: #D2E3FC;\n",
              "      --hover-bg-color: #434B5C;\n",
              "      --hover-fill-color: #FFFFFF;\n",
              "      --disabled-bg-color: #3B4455;\n",
              "      --disabled-fill-color: #666;\n",
              "  }\n",
              "\n",
              "  .colab-df-quickchart {\n",
              "    background-color: var(--bg-color);\n",
              "    border: none;\n",
              "    border-radius: 50%;\n",
              "    cursor: pointer;\n",
              "    display: none;\n",
              "    fill: var(--fill-color);\n",
              "    height: 32px;\n",
              "    padding: 0;\n",
              "    width: 32px;\n",
              "  }\n",
              "\n",
              "  .colab-df-quickchart:hover {\n",
              "    background-color: var(--hover-bg-color);\n",
              "    box-shadow: 0 1px 2px rgba(60, 64, 67, 0.3), 0 1px 3px 1px rgba(60, 64, 67, 0.15);\n",
              "    fill: var(--button-hover-fill-color);\n",
              "  }\n",
              "\n",
              "  .colab-df-quickchart-complete:disabled,\n",
              "  .colab-df-quickchart-complete:disabled:hover {\n",
              "    background-color: var(--disabled-bg-color);\n",
              "    fill: var(--disabled-fill-color);\n",
              "    box-shadow: none;\n",
              "  }\n",
              "\n",
              "  .colab-df-spinner {\n",
              "    border: 2px solid var(--fill-color);\n",
              "    border-color: transparent;\n",
              "    border-bottom-color: var(--fill-color);\n",
              "    animation:\n",
              "      spin 1s steps(1) infinite;\n",
              "  }\n",
              "\n",
              "  @keyframes spin {\n",
              "    0% {\n",
              "      border-color: transparent;\n",
              "      border-bottom-color: var(--fill-color);\n",
              "      border-left-color: var(--fill-color);\n",
              "    }\n",
              "    20% {\n",
              "      border-color: transparent;\n",
              "      border-left-color: var(--fill-color);\n",
              "      border-top-color: var(--fill-color);\n",
              "    }\n",
              "    30% {\n",
              "      border-color: transparent;\n",
              "      border-left-color: var(--fill-color);\n",
              "      border-top-color: var(--fill-color);\n",
              "      border-right-color: var(--fill-color);\n",
              "    }\n",
              "    40% {\n",
              "      border-color: transparent;\n",
              "      border-right-color: var(--fill-color);\n",
              "      border-top-color: var(--fill-color);\n",
              "    }\n",
              "    60% {\n",
              "      border-color: transparent;\n",
              "      border-right-color: var(--fill-color);\n",
              "    }\n",
              "    80% {\n",
              "      border-color: transparent;\n",
              "      border-right-color: var(--fill-color);\n",
              "      border-bottom-color: var(--fill-color);\n",
              "    }\n",
              "    90% {\n",
              "      border-color: transparent;\n",
              "      border-bottom-color: var(--fill-color);\n",
              "    }\n",
              "  }\n",
              "</style>\n",
              "\n",
              "  <script>\n",
              "    async function quickchart(key) {\n",
              "      const quickchartButtonEl =\n",
              "        document.querySelector('#' + key + ' button');\n",
              "      quickchartButtonEl.disabled = true;  // To prevent multiple clicks.\n",
              "      quickchartButtonEl.classList.add('colab-df-spinner');\n",
              "      try {\n",
              "        const charts = await google.colab.kernel.invokeFunction(\n",
              "            'suggestCharts', [key], {});\n",
              "      } catch (error) {\n",
              "        console.error('Error during call to suggestCharts:', error);\n",
              "      }\n",
              "      quickchartButtonEl.classList.remove('colab-df-spinner');\n",
              "      quickchartButtonEl.classList.add('colab-df-quickchart-complete');\n",
              "    }\n",
              "    (() => {\n",
              "      let quickchartButtonEl =\n",
              "        document.querySelector('#df-a2d5dab1-e883-431e-a145-8cf0dbb95380 button');\n",
              "      quickchartButtonEl.style.display =\n",
              "        google.colab.kernel.accessAllowed ? 'block' : 'none';\n",
              "    })();\n",
              "  </script>\n",
              "</div>\n",
              "    </div>\n",
              "  </div>\n"
            ]
          },
          "metadata": {},
          "execution_count": 41
        }
      ]
    },
    {
      "cell_type": "code",
      "source": [
        "messages = []\n",
        "for i in range(len(df)):\n",
        "  messages.append({\n",
        "      \"prompt\": (f\"{df.iloc[i, 1] + df.iloc[i, 2]}\"),\n",
        "      \"completion\": (f\"{df.iloc[i, 3]}\")\n",
        "  })\n"
      ],
      "metadata": {
        "id": "g51f0Au6wIKF"
      },
      "execution_count": null,
      "outputs": []
    },
    {
      "cell_type": "code",
      "source": [
        "len(messages)"
      ],
      "metadata": {
        "colab": {
          "base_uri": "https://localhost:8080/"
        },
        "id": "ddK62MPlwjHl",
        "outputId": "258985f1-e407-4ed9-d637-551c4f7400b1"
      },
      "execution_count": null,
      "outputs": [
        {
          "output_type": "execute_result",
          "data": {
            "text/plain": [
              "32"
            ]
          },
          "metadata": {},
          "execution_count": 43
        }
      ]
    },
    {
      "cell_type": "code",
      "source": [
        "import json\n",
        "\n",
        "with open('prompt_completion_pairs.jsonl', 'w') as file:\n",
        "  for message in messages:\n",
        "    json_line = json.dumps(message)\n",
        "    file.write(json_line + '\\n')"
      ],
      "metadata": {
        "id": "WextOaOiwluP"
      },
      "execution_count": null,
      "outputs": []
    },
    {
      "cell_type": "code",
      "source": [
        "# To fine-tune the model we have to go to their platform via this link\n",
        "# Upload the training/validation dataset and wait for the model to finish fine-tuning\n"
      ],
      "metadata": {
        "id": "LzoqH_Vvwu9o"
      },
      "execution_count": null,
      "outputs": []
    },
    {
      "cell_type": "code",
      "source": [
        "co = cohere.Client('h93cDNrvrrNevAetatQZegxqCKLMNcNt1REPsZrH')\n",
        "response = co.generate(\n",
        "  model='0befb7b9-c512-4d37-b454-268a6a73eb65-ft',\n",
        "  prompt='Write a newsletter about Security in Salesforce and how Ornidex can help with that.')\n",
        "print('Prediction: {}'.format(response.generations[0].text))"
      ],
      "metadata": {
        "colab": {
          "base_uri": "https://localhost:8080/"
        },
        "id": "7HeGx_tQ3VmO",
        "outputId": "607fa314-07cb-4e15-e744-a26b9628a022"
      },
      "execution_count": null,
      "outputs": [
        {
          "output_type": "stream",
          "name": "stdout",
          "text": [
            "Prediction:  Subject: The importance of security in Salesforce and how Ornidex can help\n",
            "\n",
            "Body:\n",
            "\n",
            "Salesforce is one of the most popular CRM (Customer Relationship Management) platforms, used by businesses of all sizes. It is a powerful tool for managing customer relationships, sales, marketing, and service. However, like any other software, Salesforce is vulnerable to cyber-attacks. That's why it's important to have a robust security strategy in place.\n",
            "\n",
            "Security in Salesforce is a complex topic, and it's constantly evolving. That's why it's important to work with a partner that's committed to keeping your data safe. Ornidex is a Salesforce partner that's dedicated to your success. We're committed to helping you protect your data and your business.\n",
            "\n",
            "We offer a variety of security services, including:\n",
            "\n",
            "Data encryption: We can help you encrypt your data at rest and in transit.\n",
            "\n",
            "Network security: We can help you protect your network from cyber-attacks.\n",
            "\n",
            "Data access controls: We can help you set up access controls to ensure that only authorized users can access your data.\n",
            "\n",
            "Regular security audits: We perform regular security audits to ensure that we're doing everything we can to protect your data.\n",
            "\n",
            "Data backup and recovery: We have a robust data backup and recovery plan in place to ensure that your data is always safe.\n",
            "\n",
            "Ornidex is committed to helping you protect your data. We're here to answer any questions you may have about security in Salesforce. We're here to help you keep your data safe.\n",
            "\n",
            "Contact Ornidex today to learn more about our security services.\n",
            "\n",
            "Best regards,\n",
            "The Ornidex team\n",
            "\n"
          ]
        }
      ]
    },
    {
      "cell_type": "code",
      "source": [
        "response = co.generate(\n",
        "  model='0befb7b9-c512-4d37-b454-268a6a73eb65-ft',\n",
        "  prompt='Write a reply for a person asking about Ornidex contacts. The name of the person is Dania.')\n",
        "print('Prediction: {}'.format(response.generations[0].text))"
      ],
      "metadata": {
        "colab": {
          "base_uri": "https://localhost:8080/"
        },
        "id": "bxnQ09PG5WpZ",
        "outputId": "2f6ca2cd-c60a-4b58-ae2d-9ac8763964d3"
      },
      "execution_count": null,
      "outputs": [
        {
          "output_type": "stream",
          "name": "stdout",
          "text": [
            "Prediction:  Subject: Request for Ornidex's contact information\n",
            "\n",
            "Body:\n",
            "Dear Dania,\n",
            "\n",
            "Thank you for your interest in Ornidex. We appreciate you taking the time to reach out to us.\n",
            "\n",
            "To answer your question, we are a leading provider of digital transformation services. We offer a range of solutions, including Salesforce, HubSpot, and Azure.\n",
            "\n",
            "Our team of experienced professionals is dedicated to helping you achieve your business goals. We have a proven track record of success and a deep understanding of the latest technologies.\n",
            "\n",
            "To learn more about Ornidex, please visit our website. It contains a wealth of information about our services and solutions.\n",
            "\n",
            "If you would like to speak with one of our team members, please don't hesitate to call us at your convenience. We are happy to answer any questions you may have.\n",
            "\n",
            "Thank you again for your interest in Ornidex. We look forward to hearing from you soon.\n",
            "\n",
            "Best regards,\n",
            "The Ornidex team\n",
            "\n"
          ]
        }
      ]
    }
  ]
}